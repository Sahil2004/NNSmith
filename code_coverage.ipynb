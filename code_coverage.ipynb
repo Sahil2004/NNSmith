{
  "nbformat": 4,
  "nbformat_minor": 0,
  "metadata": {
    "colab": {
      "provenance": [],
      "authorship_tag": "ABX9TyP7mYQ0GjRE/FyBQ8cqKYhs",
      "include_colab_link": true
    },
    "kernelspec": {
      "name": "python3",
      "display_name": "Python 3"
    },
    "language_info": {
      "name": "python"
    }
  },
  "cells": [
    {
      "cell_type": "markdown",
      "metadata": {
        "id": "view-in-github",
        "colab_type": "text"
      },
      "source": [
        "<a href=\"https://colab.research.google.com/github/Kanwar5714/NNSmith/blob/main/code_coverage.ipynb\" target=\"_parent\"><img src=\"https://colab.research.google.com/assets/colab-badge.svg\" alt=\"Open In Colab\"/></a>"
      ]
    },
    {
      "cell_type": "code",
      "execution_count": null,
      "metadata": {
        "id": "c1KS3e6_eH5o",
        "colab": {
          "base_uri": "https://localhost:8080/"
        },
        "outputId": "97e81584-c0a6-41c0-e929-f629309cfb32"
      },
      "outputs": [
        {
          "output_type": "stream",
          "name": "stdout",
          "text": [
            "Requirement already satisfied: pytest in /usr/local/lib/python3.10/dist-packages (7.4.4)\n",
            "Requirement already satisfied: pytest-cov in /usr/local/lib/python3.10/dist-packages (5.0.0)\n",
            "Requirement already satisfied: coverage in /usr/local/lib/python3.10/dist-packages (7.5.3)\n",
            "Requirement already satisfied: iniconfig in /usr/local/lib/python3.10/dist-packages (from pytest) (2.0.0)\n",
            "Requirement already satisfied: packaging in /usr/local/lib/python3.10/dist-packages (from pytest) (24.0)\n",
            "Requirement already satisfied: pluggy<2.0,>=0.12 in /usr/local/lib/python3.10/dist-packages (from pytest) (1.5.0)\n",
            "Requirement already satisfied: exceptiongroup>=1.0.0rc8 in /usr/local/lib/python3.10/dist-packages (from pytest) (1.2.1)\n",
            "Requirement already satisfied: tomli>=1.0.0 in /usr/local/lib/python3.10/dist-packages (from pytest) (2.0.1)\n"
          ]
        }
      ],
      "source": [
        "!pip install pytest pytest-cov coverage\n"
      ]
    },
    {
      "cell_type": "code",
      "source": [
        "# Install the required packages\n",
        "!pip install pytest pytest-cov coverage\n",
        "\n",
        "# Write the test cases to a file (test_compiler.py)\n",
        "test_code = \"\"\"\n",
        "import pytest\n",
        "from nnsmith.abstract.arith import nnsmith_lt\n",
        "from nnsmith.abstract.extension import activate_ext, patch_requires\n",
        "from nnsmith.abstract.op import Constant, Input, NCHWConv2d, ReLU\n",
        "from nnsmith.graph_gen import model_gen\n",
        "\n",
        "def test_only_conv_relu():\n",
        "    gen = model_gen(\n",
        "        opset=[ReLU, NCHWConv2d],\n",
        "        max_nodes=5,\n",
        "        rank_choices=(4,),\n",
        "        dtype_choices=(\"float32\",),\n",
        "    )\n",
        "    ir = gen.make_concrete()\n",
        "    for inst in ir.insts:\n",
        "        assert type(inst.iexpr.op) in [ReLU, Input, Constant, NCHWConv2d]\n",
        "\n",
        "def test_constrain_conv_ksize():\n",
        "    @patch_requires(\"global\", \"core.NCHWConv2d\")\n",
        "    def limit_conv2d(self, _):\n",
        "        # let the kernels to be > 3\n",
        "        return [nnsmith_lt(3, self.kernel_h_size), nnsmith_lt(3, self.kernel_w_size)]\n",
        "\n",
        "    opset = [ReLU, NCHWConv2d]\n",
        "    activate_ext(opset)\n",
        "    gen = model_gen(\n",
        "        opset=opset,\n",
        "        max_nodes=5,\n",
        "        rank_choices=(4,),\n",
        "        dtype_choices=(\"float32\",),\n",
        "    )\n",
        "\n",
        "    ir = gen.make_concrete()\n",
        "    for inst in ir.insts:\n",
        "        assert type(inst.iexpr.op) in [ReLU, Input, Constant, NCHWConv2d]\n",
        "        if isinstance(inst.iexpr.op, NCHWConv2d):\n",
        "            assert inst.iexpr.op.kernel_h_size > 3\n",
        "            assert inst.iexpr.op.kernel_w_size > 3\n",
        "\"\"\"\n",
        "\n",
        "with open(\"test_compiler.py\", \"w\") as f:\n",
        "    f.write(test_code)\n",
        "\n",
        "# Run tests with coverage\n",
        "!pytest --cov=nnsmith --cov-report=term-missing test_compiler.py\n"
      ],
      "metadata": {
        "colab": {
          "base_uri": "https://localhost:8080/"
        },
        "id": "udInMgwlfLp0",
        "outputId": "d5d43e74-a4ab-4444-da8b-deba7a1cc555"
      },
      "execution_count": null,
      "outputs": [
        {
          "output_type": "stream",
          "name": "stdout",
          "text": [
            "Requirement already satisfied: pytest in /usr/local/lib/python3.10/dist-packages (7.4.4)\n",
            "Requirement already satisfied: pytest-cov in /usr/local/lib/python3.10/dist-packages (5.0.0)\n",
            "Requirement already satisfied: coverage in /usr/local/lib/python3.10/dist-packages (7.5.3)\n",
            "Requirement already satisfied: iniconfig in /usr/local/lib/python3.10/dist-packages (from pytest) (2.0.0)\n",
            "Requirement already satisfied: packaging in /usr/local/lib/python3.10/dist-packages (from pytest) (24.0)\n",
            "Requirement already satisfied: pluggy<2.0,>=0.12 in /usr/local/lib/python3.10/dist-packages (from pytest) (1.5.0)\n",
            "Requirement already satisfied: exceptiongroup>=1.0.0rc8 in /usr/local/lib/python3.10/dist-packages (from pytest) (1.2.1)\n",
            "Requirement already satisfied: tomli>=1.0.0 in /usr/local/lib/python3.10/dist-packages (from pytest) (2.0.1)\n",
            "\u001b[1m======================================= test session starts ========================================\u001b[0m\n",
            "platform linux -- Python 3.10.12, pytest-7.4.4, pluggy-1.5.0\n",
            "rootdir: /content\n",
            "plugins: cov-5.0.0, anyio-3.7.1\n",
            "collected 0 items / 1 error                                                                        \u001b[0m\n",
            "/usr/local/lib/python3.10/dist-packages/coverage/inorout.py:503: CoverageWarning: Module nnsmith was never imported. (module-not-imported)\n",
            "  self.warn(f\"Module {pkg} was never imported.\", slug=\"module-not-imported\")\n",
            "/usr/local/lib/python3.10/dist-packages/coverage/control.py:888: CoverageWarning: No data was collected. (no-data-collected)\n",
            "  self._warn(\"No data was collected.\", slug=\"no-data-collected\")\n",
            "\u001b[31m\u001b[1mWARNING: Failed to generate report: No data to report.\n",
            "\n",
            "\u001b[0m/usr/local/lib/python3.10/dist-packages/pytest_cov/plugin.py:352: CovReportWarning: Failed to generate report: No data to report.\n",
            "\n",
            "  warnings.warn(CovReportWarning(message), stacklevel=1)\n",
            "\n",
            "============================================== ERRORS ==============================================\n",
            "\u001b[31m\u001b[1m________________________________ ERROR collecting test_compiler.py _________________________________\u001b[0m\n",
            "\u001b[31mImportError while importing test module '/content/test_compiler.py'.\n",
            "Hint: make sure your test modules/packages have valid Python names.\n",
            "Traceback:\n",
            "/usr/lib/python3.10/importlib/__init__.py:126: in import_module\n",
            "    return _bootstrap._gcd_import(name[level:], package, level)\n",
            "test_compiler.py:3: in <module>\n",
            "    from nnsmith.abstract.arith import nnsmith_lt\n",
            "E   ModuleNotFoundError: No module named 'nnsmith'\u001b[0m\n",
            "\n",
            "---------- coverage: platform linux, python 3.10.12-final-0 ----------\n",
            "\n",
            "\u001b[36m\u001b[1m===================================== short test summary info ======================================\u001b[0m\n",
            "\u001b[31mERROR\u001b[0m test_compiler.py\n",
            "!!!!!!!!!!!!!!!!!!!!!!!!!!!!!! Interrupted: 1 error during collection !!!!!!!!!!!!!!!!!!!!!!!!!!!!!!\n",
            "\u001b[31m========================================= \u001b[31m\u001b[1m1 error\u001b[0m\u001b[31m in 0.21s\u001b[0m\u001b[31m =========================================\u001b[0m\n"
          ]
        }
      ]
    },
    {
      "cell_type": "code",
      "source": [
        "!pip install nnsmith\n"
      ],
      "metadata": {
        "colab": {
          "base_uri": "https://localhost:8080/"
        },
        "id": "iieh95jxfMRm",
        "outputId": "a8a0c773-900f-49da-8e7d-0d95d896f2b0"
      },
      "execution_count": null,
      "outputs": [
        {
          "output_type": "stream",
          "name": "stdout",
          "text": [
            "Requirement already satisfied: nnsmith in /usr/local/lib/python3.10/dist-packages (0.1.0)\n",
            "Requirement already satisfied: z3-solver>=4.11.0 in /usr/local/lib/python3.10/dist-packages (from nnsmith) (4.13.0.0)\n",
            "Requirement already satisfied: hydra-core>=1.2.0 in /usr/local/lib/python3.10/dist-packages (from nnsmith) (1.3.2)\n",
            "Requirement already satisfied: hydra-colorlog>=1.2.0 in /usr/local/lib/python3.10/dist-packages (from nnsmith) (1.2.0)\n",
            "Requirement already satisfied: multipledispatch>=0.6.0 in /usr/local/lib/python3.10/dist-packages (from nnsmith) (1.0.0)\n",
            "Requirement already satisfied: appdirs>=1.4.4 in /usr/local/lib/python3.10/dist-packages (from nnsmith) (1.4.4)\n",
            "Requirement already satisfied: numpy in /usr/local/lib/python3.10/dist-packages (from nnsmith) (1.25.2)\n",
            "Requirement already satisfied: colorlog in /usr/local/lib/python3.10/dist-packages (from hydra-colorlog>=1.2.0->nnsmith) (6.8.2)\n",
            "Requirement already satisfied: omegaconf<2.4,>=2.2 in /usr/local/lib/python3.10/dist-packages (from hydra-core>=1.2.0->nnsmith) (2.3.0)\n",
            "Requirement already satisfied: antlr4-python3-runtime==4.9.* in /usr/local/lib/python3.10/dist-packages (from hydra-core>=1.2.0->nnsmith) (4.9.3)\n",
            "Requirement already satisfied: packaging in /usr/local/lib/python3.10/dist-packages (from hydra-core>=1.2.0->nnsmith) (24.0)\n",
            "Requirement already satisfied: PyYAML>=5.1.0 in /usr/local/lib/python3.10/dist-packages (from omegaconf<2.4,>=2.2->hydra-core>=1.2.0->nnsmith) (6.0.1)\n"
          ]
        }
      ]
    },
    {
      "cell_type": "code",
      "source": [
        "import sys\n",
        "print(sys.path)\n"
      ],
      "metadata": {
        "colab": {
          "base_uri": "https://localhost:8080/"
        },
        "id": "iZs6_sH_fMOP",
        "outputId": "48497e13-6e25-4173-91eb-305d65727ff7"
      },
      "execution_count": null,
      "outputs": [
        {
          "output_type": "stream",
          "name": "stdout",
          "text": [
            "['/content', '/env/python', '/usr/lib/python310.zip', '/usr/lib/python3.10', '/usr/lib/python3.10/lib-dynload', '', '/usr/local/lib/python3.10/dist-packages', '/usr/lib/python3/dist-packages', '/usr/local/lib/python3.10/dist-packages/IPython/extensions', '/root/.ipython']\n"
          ]
        }
      ]
    },
    {
      "cell_type": "code",
      "source": [
        "import pytest\n",
        "from nnsmith.abstract.arith import nnsmith_lt\n",
        "from nnsmith.abstract.extension import activate_ext, patch_requires\n",
        "from nnsmith.abstract.op import Constant, Input, NCHWConv2d, ReLU\n",
        "from nnsmith.graph_gen import model_gen\n",
        "\n",
        "def test_different_opset_combinations():\n",
        "    # Test with different combinations of operators in the opset\n",
        "    opset_combinations = [\n",
        "        [ReLU, NCHWConv2d],\n",
        "        [Input, Constant],\n",
        "        [ReLU, Input, Constant],\n",
        "        # Add more combinations as needed\n",
        "    ]\n",
        "\n",
        "    for opset in opset_combinations:\n",
        "        gen = model_gen(\n",
        "            opset=opset,\n",
        "            max_nodes=5,\n",
        "            rank_choices=(4,),\n",
        "            dtype_choices=(\"float32\",),\n",
        "        )\n",
        "\n",
        "        ir = gen.make_concrete()\n",
        "\n",
        "        for inst in ir.insts:\n",
        "            assert type(inst.iexpr.op) in opset\n",
        "\n",
        "\n",
        "def test_maximum_nodes_limit():\n",
        "    # Test with different maximum nodes limits\n",
        "    max_nodes_values = [3, 5, 10]\n",
        "\n",
        "    for max_nodes in max_nodes_values:\n",
        "        gen = model_gen(\n",
        "            opset=[ReLU, NCHWConv2d],\n",
        "            max_nodes=max_nodes,\n",
        "            rank_choices=(4,),\n",
        "            dtype_choices=(\"float32\",),\n",
        "        )\n",
        "\n",
        "        ir = gen.make_concrete()\n",
        "\n",
        "        assert len(ir.insts) <= max_nodes\n",
        "\n",
        "\n",
        "def test_different_rank_choices():\n",
        "    # Test with different choices of ranks\n",
        "    rank_choices_values = [(4,), (3, 4), (2, 3, 4)]\n",
        "\n",
        "    for rank_choices in rank_choices_values:\n",
        "        gen = model_gen(\n",
        "            opset=[ReLU, NCHWConv2d],\n",
        "            max_nodes=5,\n",
        "            rank_choices=rank_choices,\n",
        "            dtype_choices=(\"float32\",),\n",
        "        )\n",
        "\n",
        "        ir = gen.make_concrete()\n",
        "\n",
        "        assert len(ir.insts) > 0  # Ensure at least one instance is generated\n",
        "\n",
        "\n",
        "def test_different_dtype_choices():\n",
        "    # Test with different data type choices\n",
        "    dtype_choices_values = [(\"float32\",), (\"int32\",), (\"float32\", \"int32\")]\n",
        "\n",
        "    for dtype_choices in dtype_choices_values:\n",
        "        gen = model_gen(\n",
        "            opset=[ReLU, NCHWConv2d],\n",
        "            max_nodes=5,\n",
        "            rank_choices=(4,),\n",
        "            dtype_choices=dtype_choices,\n",
        "        )\n",
        "\n",
        "        ir = gen.make_concrete()\n",
        "\n",
        "        assert len(ir.insts) > 0  # Ensure at least one instance is generated\n",
        "\n",
        "\n",
        "def test_patching_requirements():\n",
        "    # Test patching requirements for different operator combinations\n",
        "    opset_combinations = [\n",
        "        ([ReLU, NCHWConv2d],),\n",
        "        ([Input, Constant],),\n",
        "        ([ReLU, Input, Constant],),\n",
        "        # Add more combinations as needed\n",
        "    ]\n",
        "\n",
        "    for opset in opset_combinations:\n",
        "        @patch_requires(\"global\", \"core.NCHWConv2d\")\n",
        "        def limit_conv2d(self, _):\n",
        "            # let the kernels to be > 3\n",
        "            return [nnsmith_lt(3, self.kernel_h_size), nnsmith_lt(3, self.kernel_w_size)]\n",
        "\n",
        "        activate_ext(opset)\n",
        "        gen = model_gen(\n",
        "            opset=opset,\n",
        "            max_nodes=5,\n",
        "            rank_choices=(4,),\n",
        "            dtype_choices=(\"float32\",),\n",
        "        )\n",
        "\n",
        "        ir = gen.make_concrete()\n",
        "\n",
        "        for inst in ir.insts:\n",
        "            assert type(inst.iexpr.op) in opset\n",
        "            if isinstance(inst.iexpr.op, NCHWConv2d):\n",
        "                assert inst.iexpr.op.kernel_h_size > 3\n",
        "                assert inst.iexpr.op.kernel_w_size > 3\n"
      ],
      "metadata": {
        "colab": {
          "base_uri": "https://localhost:8080/"
        },
        "id": "O5PLsB7XfMLd",
        "outputId": "2a325c1d-a2d8-474d-c8be-37afaf7ba542"
      },
      "execution_count": null,
      "outputs": [
        {
          "output_type": "stream",
          "name": "stderr",
          "text": [
            "/usr/local/lib/python3.10/dist-packages/nnsmith/util.py:20: UserWarning: Install pygraphviz for visualization: https://pygraphviz.github.io/documentation/stable/install.html\n",
            "Currently graph visualization is not enabled.\n",
            "  warnings.warn(\n"
          ]
        }
      ]
    },
    {
      "cell_type": "code",
      "source": [
        "import pytest\n",
        "from nnsmith.abstract.arith import nnsmith_lt\n",
        "from nnsmith.abstract.extension import activate_ext, patch_requires\n",
        "from nnsmith.abstract.op import Constant, Input, NCHWConv2d, ReLU\n",
        "from nnsmith.graph_gen import model_gen\n",
        "\n",
        "def test_generate_graph_with_user_input():\n",
        "    # Test generating a graph with user input for opset, max_nodes, rank_choices, and dtype_choices\n",
        "    user_opset = [ReLU, NCHWConv2d]\n",
        "    user_max_nodes = 5\n",
        "    user_rank_choices = (4,)\n",
        "    user_dtype_choices = (\"float32\",)\n",
        "\n",
        "    gen = model_gen(\n",
        "        opset=user_opset,\n",
        "        max_nodes=user_max_nodes,\n",
        "        rank_choices=user_rank_choices,\n",
        "        dtype_choices=user_dtype_choices,\n",
        "    )\n",
        "\n",
        "    ir = gen.make_concrete()\n",
        "\n",
        "    # Assert that the generated graph meets user specifications\n",
        "    assert len(ir.insts) > 0  # Ensure at least one instance is generated\n",
        "    for inst in ir.insts:\n",
        "        assert type(inst.iexpr.op) in user_opset\n"
      ],
      "metadata": {
        "id": "1WFZUs0LfMIo"
      },
      "execution_count": null,
      "outputs": []
    },
    {
      "cell_type": "code",
      "source": [
        "import pytest\n",
        "\n",
        "from nnsmith.abstract.arith import nnsmith_lt\n",
        "from nnsmith.abstract.extension import activate_ext, patch_requires\n",
        "from nnsmith.abstract.op import Constant, Input, NCHWConv2d, ReLU\n",
        "from nnsmith.graph_gen import model_gen\n",
        "\n",
        "\n",
        "def test_only_conv_relu():\n",
        "    gen = model_gen(\n",
        "        opset=[ReLU, NCHWConv2d],\n",
        "        max_nodes=5,\n",
        "        rank_choices=(4,),\n",
        "        dtype_choices=(\"float32\",),\n",
        "    )\n",
        "\n",
        "    ir = gen.make_concrete()\n",
        "\n",
        "    for inst in ir.insts:\n",
        "        assert type(inst.iexpr.op) in [ReLU, Input, Constant, NCHWConv2d]\n",
        "\n",
        "\n",
        "def test_constrain_conv_ksize():\n",
        "    @patch_requires(\"global\", \"core.NCHWConv2d\")\n",
        "    def limit_conv2d(self, _):\n",
        "        # let the kernels to be > 3\n",
        "        return [nnsmith_lt(3, self.kernel_h_size), nnsmith_lt(3, self.kernel_w_size)]\n",
        "\n",
        "    opset = [ReLU, NCHWConv2d]\n",
        "    activate_ext(opset)\n",
        "    gen = model_gen(\n",
        "        opset=opset,\n",
        "        max_nodes=5,\n",
        "        rank_choices=(4,),\n",
        "        dtype_choices=(\"float32\",),\n",
        "    )\n",
        "\n",
        "    ir = gen.make_concrete()\n",
        "    for inst in ir.insts:\n",
        "        assert type(inst.iexpr.op) in [ReLU, Input, Constant, NCHWConv2d]\n",
        "        if isinstance(inst.iexpr.op, NCHWConv2d):\n",
        "            assert inst.iexpr.op.kernel_h_size > 3\n",
        "            assert inst.iexpr.op.kernel_w_size > 3"
      ],
      "metadata": {
        "id": "KaBuo08PfMFg"
      },
      "execution_count": null,
      "outputs": []
    },
    {
      "cell_type": "code",
      "source": [
        "import matplotlib.pyplot as plt\n",
        "\n",
        "def get_user_input():\n",
        "    # Prompt user for input\n",
        "    user_input = input(\"Enter data points separated by commas (e.g., 1,2,3,4,5): \")\n",
        "    # Split the input string into a list of strings\n",
        "    data_str = user_input.split(',')\n",
        "    # Convert the list of strings to a list of floats\n",
        "    data = [float(x) for x in data_str]\n",
        "    return data\n",
        "\n",
        "def plot_data(data):\n",
        "    # Generate x values\n",
        "    x = range(len(data))\n",
        "    # Create the plot\n",
        "    plt.figure(figsize=(10, 5))\n",
        "    plt.plot(x, data, marker='o', linestyle='-', color='b')\n",
        "    plt.title('User Input Data Plot')\n",
        "    plt.xlabel('Index')\n",
        "    plt.ylabel('Value')\n",
        "    plt.grid(True)\n",
        "    plt.show()\n",
        "\n",
        "def main():\n",
        "    # Get data from the user\n",
        "    data = get_user_input()\n",
        "    # Plot the data\n",
        "    plot_data(data)\n",
        "\n",
        "# Run the main function\n",
        "if __name__ == \"__main__\":\n",
        "    main()\n"
      ],
      "metadata": {
        "id": "azsPW4SFfL9N",
        "colab": {
          "base_uri": "https://localhost:8080/",
          "height": 504
        },
        "outputId": "a2f9bf4c-8c5a-404e-8f86-d8c4251fc4d1"
      },
      "execution_count": null,
      "outputs": [
        {
          "name": "stdout",
          "output_type": "stream",
          "text": [
            "Enter data points separated by commas (e.g., 1,2,3,4,5): 45, 56,67,56\n"
          ]
        },
        {
          "output_type": "display_data",
          "data": {
            "text/plain": [
              "<Figure size 1000x500 with 1 Axes>"
            ],
            "image/png": "[encoded data removed]"
          },
          "metadata": {}
        }
      ]
    },
    {
      "cell_type": "code",
      "source": [
        "import matplotlib.pyplot as plt\n",
        "\n",
        "def get_user_input():\n",
        "    # Prompt user for the number of test cases\n",
        "    num_cases = int(input(\"Enter the number of test cases: \"))\n",
        "    accuracies = []\n",
        "    for i in range(num_cases):\n",
        "        accuracy = float(input(f\"Enter the accuracy for test case {i + 1}: \"))\n",
        "        accuracies.append(accuracy)\n",
        "    return accuracies\n",
        "\n",
        "def plot_accuracy_graph(accuracies):\n",
        "    # Generate x values\n",
        "    x = range(1, len(accuracies) + 1)\n",
        "    # Create the plot\n",
        "    plt.figure(figsize=(10, 5))\n",
        "    plt.plot(x, accuracies, marker='o', linestyle='-', color='b')\n",
        "    plt.title('Accuracy Graph')\n",
        "    plt.xlabel('Test Case')\n",
        "    plt.ylabel('Accuracy (%)')\n",
        "    plt.grid(True)\n",
        "    plt.ylim(0, 100)  # Assuming accuracy is given as a percentage\n",
        "    plt.show()\n",
        "\n",
        "def main():\n",
        "    # Get accuracy data from the user\n",
        "    accuracies = get_user_input()\n",
        "    # Plot the accuracy graph\n",
        "    plot_accuracy_graph(accuracies)\n",
        "\n",
        "# Run the main function\n",
        "if __name__ == \"__main__\":\n",
        "    main()\n",
        "\n"
      ],
      "metadata": {
        "colab": {
          "base_uri": "https://localhost:8080/",
          "height": 574
        },
        "id": "fXTjXwmp7qsh",
        "outputId": "aff51367-6717-4278-cc1f-2f4495f8098c"
      },
      "execution_count": null,
      "outputs": [
        {
          "name": "stdout",
          "output_type": "stream",
          "text": [
            "Enter the number of test cases: 4\n",
            "Enter the accuracy for test case 1: 45\n",
            "Enter the accuracy for test case 2: 56\n",
            "Enter the accuracy for test case 3: 67\n",
            "Enter the accuracy for test case 4: 34\n"
          ]
        },
        {
          "output_type": "display_data",
          "data": {
            "text/plain": [
              "<Figure size 1000x500 with 1 Axes>"
            ],
            "image/png": "[encoded data removed]"
          },
          "metadata": {}
        }
      ]
    },
    {
      "cell_type": "code",
      "source": [
        "import random\n",
        "import numpy as np\n",
        "import matplotlib.pyplot as plt\n",
        "\n",
        "# Define some mock tensor operators\n",
        "class Operator:\n",
        "    def __init__(self, name, input_shapes, output_shape):\n",
        "        self.name = name\n",
        "        self.input_shapes = input_shapes\n",
        "        self.output_shape = output_shape\n",
        "\n",
        "def generate_random_operator():\n",
        "    operators = [\n",
        "        Operator('Conv2d', [(1, 3, 64, 64)], (1, 2, 62, 62)),\n",
        "        Operator('Add', [(1, 2, 62, 62), (1, 2, 62, 62)], (1, 2, 62, 62)),\n",
        "        Operator('Reshape', [(1, 2, 62, 62)], (62, 62, 2)),\n",
        "        # Add more operators as needed\n",
        "    ]\n",
        "    return random.choice(operators)\n",
        "\n",
        "def generate_random_model():\n",
        "    model = []\n",
        "    num_layers = random.randint(1, 5)  # Generate a model with 1 to 5 layers\n",
        "    for _ in range(num_layers):\n",
        "        model.append(generate_random_operator())\n",
        "    return model\n",
        "\n",
        "def model_to_string(model):\n",
        "    return \" -> \".join([op.name for op in model])\n",
        "\n",
        "# Mock function to simulate running the model and collecting coverage\n",
        "def run_model(model):\n",
        "    coverage = random.uniform(0.5, 1.0)  # Simulate coverage between 50% and 100%\n",
        "    return coverage\n",
        "\n",
        "# Generate test cases\n",
        "def generate_test_cases(num_cases):\n",
        "    test_cases = []\n",
        "    for _ in range(num_cases):\n",
        "        model = generate_random_model()\n",
        "        coverage = run_model(model)\n",
        "        test_cases.append((model, coverage))\n",
        "    return test_cases\n",
        "\n",
        "# Function to plot accuracy graph\n",
        "def plot_coverage(test_cases):\n",
        "    coverages = [coverage for _, coverage in test_cases]\n",
        "    plt.plot(range(len(coverages)), coverages, marker='o')\n",
        "    plt.title('Test Case Coverage')\n",
        "    plt.xlabel('Test Case')\n",
        "    plt.ylabel('Coverage')\n",
        "    plt.ylim(0, 1)\n",
        "    plt.grid(True)\n",
        "    plt.show()\n",
        "\n",
        "# Main function\n",
        "def main():\n",
        "    num_cases = int(input(\"Enter the number of test cases to generate: \"))\n",
        "    test_cases = generate_test_cases(num_cases)\n",
        "    for i, (model, coverage) in enumerate(test_cases):\n",
        "        print(f\"Test Case {i+1}: Model: {model_to_string(model)} - Coverage: {coverage:.2f}\")\n",
        "    plot_coverage(test_cases)\n",
        "\n",
        "if __name__ == \"__main__\":\n",
        "    main()\n"
      ],
      "metadata": {
        "colab": {
          "base_uri": "https://localhost:8080/",
          "height": 576
        },
        "id": "3dLyqKrH8tHv",
        "outputId": "4e8cd2b6-acfc-49ba-f590-7bd8e6b4a893"
      },
      "execution_count": null,
      "outputs": [
        {
          "output_type": "stream",
          "name": "stdout",
          "text": [
            "Enter the number of test cases to generate: 5\n",
            "Test Case 1: Model: Reshape -> Add -> Conv2d -> Reshape - Coverage: 0.90\n",
            "Test Case 2: Model: Add -> Reshape -> Conv2d -> Add -> Add - Coverage: 0.80\n",
            "Test Case 3: Model: Reshape - Coverage: 0.72\n",
            "Test Case 4: Model: Reshape - Coverage: 0.86\n",
            "Test Case 5: Model: Reshape -> Add -> Conv2d - Coverage: 0.81\n"
          ]
        },
        {
          "output_type": "display_data",
          "data": {
            "text/plain": [
              "<Figure size 640x480 with 1 Axes>"
            ],
            "image/png": "[encoded data removed]"
          },
          "metadata": {}
        }
      ]
    },
    {
      "cell_type": "code",
      "source": [],
      "metadata": {
        "id": "FBJhQJ7ZSVcH"
      },
      "execution_count": null,
      "outputs": []
    }
  ]
}